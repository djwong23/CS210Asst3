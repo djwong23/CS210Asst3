{
 "cells": [
  {
   "cell_type": "code",
   "execution_count": 91,
   "metadata": {},
   "outputs": [],
   "source": [
    "import numpy as np\n",
    "import pandas as pd\n",
    "\n",
    "pd.set_option('display.max_rows', 500)\n",
    "pd.set_option('display.max_columns', 500)\n",
    "pd.set_option('display.width', 1000)\n",
    "credits = pd.read_csv(open(\"GermanCredit.csv\"))\n",
    "\n"
   ]
  },
  {
   "cell_type": "markdown",
   "metadata": {},
   "source": [
    "Problem 2: German Credit Dataset (72 points)\n",
    "Given a CSV data file as represented by the sample file GermanCredit.csv (1000 records), load it into a Pandas DataFrame, and perform the following tasks on it.\n",
    "\n",
    "Preprocessing (31 pts)\n",
    "1. [8 pts] Drop the 3 columns that contribute the least to the dataset. These would be the columns with the highest number of non-zero 'none' values. Break ties by going left to right in columns. (Your code should be generalizable to drop n columns, but for the rest of the analysis, you can call your code for n=3.)"
   ]
  },
  {
   "cell_type": "code",
   "execution_count": 92,
   "metadata": {},
   "outputs": [],
   "source": [
    "column_arr = []\n",
    "for (columnName, columnData) in credits.iteritems():\n",
    "    empty_list = columnData[columnData == 'none'].tolist()\n",
    "    column_arr.append((len(empty_list), columnName, credits.columns.get_loc(columnName)))\n",
    "sorted_arr = sorted(column_arr, reverse=True, key = lambda x: (x[0], -x[2], x[1]))\n",
    "for i in range(3):\n",
    "    del credits[sorted_arr[i][1]]\n"
   ]
  },
  {
   "cell_type": "markdown",
   "metadata": {},
   "source": [
    "2. [4 pts] Certain values in some of the columns contain unnecessary apostrophes (‘). Remove the apostrophes.\n"
   ]
  },
  {
   "cell_type": "code",
   "execution_count": 93,
   "metadata": {},
   "outputs": [],
   "source": [
    "def strip_apos(x):\n",
    "    if isinstance(x, str):\n",
    "        return x.strip(\"\\'\")\n",
    "    return x\n",
    "credits = credits.applymap(strip_apos)"
   ]
  },
  {
   "cell_type": "markdown",
   "metadata": {},
   "source": [
    "3. [5 pts] The checking_status column has values in 4 categories: 'no checking', '<0', '0<=X<200', and '>=200'. Change these to 'No Checking', 'Low', 'Medium', and 'High' respectively.\n"
   ]
  },
  {
   "cell_type": "code",
   "execution_count": 94,
   "metadata": {},
   "outputs": [],
   "source": [
    "categories = ['no checking', '<0', '0<=X<200',  '>=200']\n",
    "replacement = ['No Checking', 'Low', 'Medium', 'High']\n",
    "for i in range(4):\n",
    "    credits.loc[credits['checking_status'] == categories[i], 'checking_status'] = replacement[i]\n"
   ]
  },
  {
   "cell_type": "markdown",
   "metadata": {},
   "source": [
    "4. The savings_status column has values in 4 categories: 'no known savings', '<100', '100<=X<500', '500<=X<1000', and '>=1000'. Change these to 'No Savings', 'Low', 'Medium', 'High', and 'High' respectively. (Yes, the last two are both 'High')."
   ]
  },
  {
   "cell_type": "code",
   "execution_count": 95,
   "metadata": {},
   "outputs": [],
   "source": [
    "savings_categories = ['no known savings', '<100', '100<=X<500', '500<=X<1000', '>=1000']\n",
    "savings_replacement = ['No Savings', 'Low', 'Medium', 'High', 'High']\n",
    "for i in range(5):\n",
    "    credits.loc[credits['savings_status'] == savings_categories[i], 'savings_status'] = savings_replacement[i]\n"
   ]
  },
  {
   "cell_type": "markdown",
   "metadata": {},
   "source": [
    "5. [4 pts] Change class column values from 'good' to '1' and 'bad' to '0'."
   ]
  },
  {
   "cell_type": "code",
   "execution_count": 96,
   "metadata": {},
   "outputs": [],
   "source": [
    "credits.loc[credits['class'] == 'good', 'class'] = '1'\n",
    "credits.loc[credits['class'] == 'bad', 'class'] = '0'\n"
   ]
  },
  {
   "cell_type": "markdown",
   "metadata": {},
   "source": [
    "6. [5 pts] Change the employment column value 'unemployed' to 'Unemployed', and for the others, change to 'Amateur', 'Professional', 'Experienced' and 'Expert', depending on year range.\n"
   ]
  },
  {
   "cell_type": "code",
   "execution_count": 98,
   "metadata": {},
   "outputs": [],
   "source": [
    "employment_categories = ['unemployed','<1','1<=X<4','4<=X<7','>=7']\n",
    "employment_replacement = ['Unemployed', 'Amateur', 'Professional', 'Experienced', 'Expert']\n",
    "for i in range(5):\n",
    "    credits.loc[credits['employment'] == employment_categories[i], 'employment'] = employment_replacement[i]\n"
   ]
  }
 ],
 "metadata": {
  "interpreter": {
   "hash": "e791c14b0e5195c71c6618710880957adef05050fb73851536d5d0abe7e86465"
  },
  "kernelspec": {
   "display_name": "Python 3.9.7 ('base')",
   "language": "python",
   "name": "python3"
  },
  "language_info": {
   "codemirror_mode": {
    "name": "ipython",
    "version": 3
   },
   "file_extension": ".py",
   "mimetype": "text/x-python",
   "name": "python",
   "nbconvert_exporter": "python",
   "pygments_lexer": "ipython3",
   "version": "3.9.7"
  },
  "orig_nbformat": 4
 },
 "nbformat": 4,
 "nbformat_minor": 2
}
